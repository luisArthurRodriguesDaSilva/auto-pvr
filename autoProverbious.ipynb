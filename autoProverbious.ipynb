{
  "cells": [
    {
      "cell_type": "code",
      "execution_count": 2,
      "metadata": {
        "id": "1FS6edPvP45o"
      },
      "outputs": [],
      "source": [
        "import numpy as np\n",
        "\n",
        "def getSpaces(text):\n",
        "    spaces = []\n",
        "    for i in range(len(text)):\n",
        "        if text[i] == ' ':\n",
        "            spaces.append(i)\n",
        "    return spaces\n",
        "\n",
        "\n",
        "def getBiggestSmallest(arraio,n) :\n",
        "  for index,curr  in enumerate(arraio):\n",
        "    if curr > n:\n",
        "      return arraio[index-1]\n",
        "  return 9000\n",
        "\n",
        "def divitedText(text, SizeLine):\n",
        "  spaces = np.array(getSpaces(text))\n",
        "  volta = 0\n",
        "  while 1:\n",
        "    #print(spaces)\n",
        "    volta+=1\n",
        "    local = getBiggestSmallest(spaces,SizeLine*volta)\n",
        "    if local == 9000:\n",
        "      break\n",
        "    text = text[:local] + '\\n' + text[local+1:]\n",
        "  return text , volta"
      ]
    },
    {
      "cell_type": "code",
      "execution_count": null,
      "metadata": {
        "id": "SQ6Ce2fBizd4"
      },
      "outputs": [],
      "source": [
        "import json\n",
        "import tweepy\n",
        "from random import randrange\n",
        "from datetime import date\n",
        "\n",
        "today = date.today().day\n",
        "\n",
        "with open('/content/drive/MyDrive/biblia/bibleNvi.json','r') as f:\n",
        "  bible = json.load(f)\n",
        "with open('/content/drive/MyDrive/keysOfNsei.json','r') as f:\n",
        "  keys = (json.load(f))[0]\n",
        "\n",
        "for book  in bible :\n",
        "  if (book[\"abbrev\"] == \"pv\"):\n",
        "    proverbios = book\n",
        "    break\n",
        "\n",
        "cap = proverbios['chapters']\n",
        "\n",
        "cd = cap[today-1]\n",
        "limit = len(cd)\n",
        "versicleIndex = randrange(0,limit)\n",
        "\n",
        "dailyVersicle = cd[versicleIndex]\n",
        "versicleAdress = f'({today}:{versicleIndex+1})'\n",
        "\n",
        "before,next = cd[versicleIndex-1],cd[versicleIndex + 1]\n",
        "\n",
        "finalResult = (\n",
        "f\"\"\"{dailyVersicle}\n",
        "_\n",
        "prv {versicleAdress}\"\"\")\n",
        "\n",
        "print(finalResult)\n",
        "\n",
        "\n",
        "extra=False"
      ]
    },
    {
      "cell_type": "code",
      "execution_count": null,
      "metadata": {
        "id": "WOsanpxLOIqV"
      },
      "outputs": [],
      "source": [
        "inp='-1'"
      ]
    },
    {
      "cell_type": "code",
      "execution_count": null,
      "metadata": {
        "id": "mD3CGVH8OBN8"
      },
      "outputs": [],
      "source": [
        "\n",
        "if(inp == '+1') :\n",
        "  extra = True\n",
        "  versicleAdress = f'{today}:({versicleIndex+1},{versicleIndex+2})'\n",
        "  finalResult = (\n",
        "f\"\"\"{dailyVersicle} {next}\n",
        "_\n",
        "prv {versicleAdress}\"\"\")\n",
        "elif(inp == '-1'):\n",
        "  extra=True\n",
        "  versicleAdress = f'{today}:({versicleIndex},{versicleIndex+1})'\n",
        "  finalResult = (\n",
        "f\"\"\"{before} {dailyVersicle}\n",
        "_\n",
        "prv {versicleAdress}\"\"\")\n",
        "\n",
        "print(finalResult)"
      ]
    },
    {
      "cell_type": "code",
      "execution_count": null,
      "metadata": {
        "id": "it6Nb07KP-Eo"
      },
      "outputs": [],
      "source": [
        "import numpy as np\n",
        "import IPython.display as d\n",
        "import os\n",
        "from PIL import Image, ImageDraw, ImageFont, ImageEnhance\n",
        "import math\n",
        "from random import randrange, uniform\n",
        "\n",
        "from PIL.ImageFilter import (\n",
        "   BLUR, CONTOUR, DETAIL, EDGE_ENHANCE, EDGE_ENHANCE_MORE,\n",
        "   EMBOSS, FIND_EDGES, SMOOTH, SMOOTH_MORE, SHARPEN\n",
        ")\n",
        "\n",
        "text= finalResult\n",
        "patternPath = '/content/drive/MyDrive/fotos maneras'\n",
        "imgNamePath = os.listdir(patternPath)\n",
        "print(imgNamePath)\n",
        "imgPath = patternPath + '/' + imgNamePath[randrange(0,len(imgNamePath))]\n",
        "img = Image.open(imgPath)\n",
        "img = img.filter(BLUR).filter(BLUR).filter(BLUR).filter(BLUR)\n",
        "img = ImageEnhance.Brightness(img).enhance(0.3)\n",
        "[width, height] = img.size\n",
        "cantofact = 15\n",
        "sizeOfCanto = int(width/cantofact)\n",
        "diminuit = 20 if extra else 15\n",
        "fontSize=int(width/diminuit)\n",
        "[initialWidth,initialHeight] = map(lambda x: int(x/cantofact),[width,height])\n",
        "limitLine = int(1.3*diminuit)\n",
        "print(limitLine)\n",
        "convertedText , numberOfLines = divitedText(text,limitLine)\n",
        "print(img.size)\n",
        "\n",
        "if (height > width):\n",
        "  initialHeight =int((initialHeight/2)+(fontSize*numberOfLines*0.8))\n",
        "\n",
        "idr = ImageDraw.Draw(img)\n",
        "\n",
        "font = ImageFont.truetype('/content/drive/MyDrive/fontes/arial.ttf' ,int(fontSize))\n",
        "\n",
        "idr.text((initialWidth, initialHeight), convertedText, fill=(250, 250, 250), font=font)\n",
        "\n",
        "\n",
        "newPath = f'/content/drive/MyDrive/guardar ultima img/last{today}.jpg'\n",
        "\n",
        "img.save(newPath)\n",
        "d.Image(newPath)"
      ]
    },
    {
      "cell_type": "code",
      "execution_count": null,
      "metadata": {
        "id": "TJ-OrnwFZOvJ"
      },
      "outputs": [],
      "source": [
        "auth = tweepy.OAuthHandler(keys['chave1'],keys['chave2'])\n",
        "auth.set_access_token(keys['chave3'],keys['chave4'])\n",
        "api = tweepy.API(auth)\n",
        "\n",
        "twet = api.update_with_media(newPath)\n",
        "api.update_status('https://github.com/luisArthurRodriguesDaSilva/auto-pvr/blob/main/autoProverbious.ipynb',twet.id)"
      ]
    }
  ],
  "metadata": {
    "colab": {
      "collapsed_sections": [],
      "name": "Cópia de Cópia de autoProverbious",
      "provenance": [],
      "mount_file_id": "1rBKBphnZ-tfKsl5_BUSega8xbzSwzEDy",
      "authorship_tag": "ABX9TyO0ZrGANwL0Oj4rj37Vqlg9"
    },
    "kernelspec": {
      "display_name": "Python 3",
      "name": "python3"
    },
    "language_info": {
      "name": "python"
    }
  },
  "nbformat": 4,
  "nbformat_minor": 0
}

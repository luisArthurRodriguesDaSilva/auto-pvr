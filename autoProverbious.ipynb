{
  "nbformat": 4,
  "nbformat_minor": 0,
  "metadata": {
    "colab": {
      "name": "autoProverbious",
      "provenance": [],
      "mount_file_id": "1xQtWvoo5qpTIhwZAFxE6keGir1y2Aovf",
      "authorship_tag": "ABX9TyPYPfobbHqA0xTPv4lzFGL0",
      "include_colab_link": true
    },
    "kernelspec": {
      "name": "python3",
      "display_name": "Python 3"
    },
    "language_info": {
      "name": "python"
    }
  },
  "cells": [
    {
      "cell_type": "markdown",
      "metadata": {
        "id": "view-in-github",
        "colab_type": "text"
      },
      "source": [
        "<a href=\"https://colab.research.google.com/github/luisArthurRodriguesDaSilva/autoProverbs/blob/main/autoProverbious.ipynb\" target=\"_parent\"><img src=\"https://colab.research.google.com/assets/colab-badge.svg\" alt=\"Open In Colab\"/></a>"
      ]
    },
    {
      "cell_type": "code",
      "source": [
        "import json\n",
        "from random import randrange\n",
        "from datetime import date\n",
        "\n",
        "today = date.today().day\n",
        "\n",
        "with open('/content/drive/MyDrive/biblia/bibleNvi.json','r') as f:\n",
        "  bible = json.load(f)\n",
        "\n",
        "for book  in bible :\n",
        "  if (book[\"abbrev\"] == \"pv\"):\n",
        "    proverbios = book\n",
        "    break\n",
        "\n",
        "cap = proverbios['chapters']\n",
        "\n",
        "cd = cap[today-1]\n",
        "limit = len(cd)\n",
        "versicleIndex = randrange(0,limit)\n",
        "\n",
        "dailyVersicle = cd[versicleIndex]\n",
        "print(f\"\"\"{dailyVersicle}\n",
        "      pv({today}:{versicleIndex+1})\"\"\")"
      ],
      "metadata": {
        "id": "SQ6Ce2fBizd4",
        "colab": {
          "base_uri": "https://localhost:8080/"
        },
        "outputId": "996504c2-2e82-4a48-8383-69307cce9d48"
      },
      "execution_count": 69,
      "outputs": [
        {
          "output_type": "stream",
          "name": "stdout",
          "text": [
            "O que o justo almeja redunda em alegria, mas as esperanças dos ímpios dão em nada.\n",
            "      pv(10:28)\n"
          ]
        }
      ]
    },
    {
      "cell_type": "code",
      "source": [
        ""
      ],
      "metadata": {
        "id": "H9lEnKhewC_s"
      },
      "execution_count": null,
      "outputs": []
    }
  ]
}
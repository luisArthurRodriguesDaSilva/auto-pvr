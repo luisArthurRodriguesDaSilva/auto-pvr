{
  "nbformat": 4,
  "nbformat_minor": 0,
  "metadata": {
    "colab": {
      "name": "autoProverbious",
      "provenance": [],
      "mount_file_id": "https://github.com/luisArthurRodriguesDaSilva/autoProverbs/blob/main/autoProverbious.ipynb",
      "authorship_tag": "ABX9TyNL076cBGvzRRqsWmtwoQXo",
      "include_colab_link": true
    },
    "kernelspec": {
      "name": "python3",
      "display_name": "Python 3"
    },
    "language_info": {
      "name": "python"
    }
  },
  "cells": [
    {
      "cell_type": "markdown",
      "metadata": {
        "id": "view-in-github",
        "colab_type": "text"
      },
      "source": [
        "<a href=\"https://colab.research.google.com/github/luisArthurRodriguesDaSilva/autoProverbs/blob/main/autoProverbious.ipynb\" target=\"_parent\"><img src=\"https://colab.research.google.com/assets/colab-badge.svg\" alt=\"Open In Colab\"/></a>"
      ]
    },
    {
      "cell_type": "code",
      "source": [
        "import numpy as np\n",
        "\n",
        "def getSpaces(text):\n",
        "    spaces = []\n",
        "    for i in range(len(text)):\n",
        "        if text[i] == ' ':\n",
        "            spaces.append(i)\n",
        "    return spaces\n",
        "\n",
        "\n",
        "def getBiggestSmallest(arraio,n) :\n",
        "  for index,curr  in enumerate(arraio):\n",
        "    if curr > n:\n",
        "      return arraio[index-1]\n",
        "  return 9000\n",
        "\n",
        "def divitedText(text, SizeLine):\n",
        "  spaces = np.array(getSpaces(text))\n",
        "  volta = 0\n",
        "  while 1:\n",
        "    print(spaces)\n",
        "    volta+=1\n",
        "    local = getBiggestSmallest(spaces,SizeLine*volta)\n",
        "    if local == 9000:\n",
        "      break\n",
        "    text = text[:local] + '\\n' + text[local+1:]\n",
        "  return text"
      ],
      "metadata": {
        "colab": {
          "base_uri": "https://localhost:8080/"
        },
        "id": "1FS6edPvP45o",
        "outputId": "06cf89d6-b18a-423a-b235-395003d24cec"
      },
      "execution_count": 1,
      "outputs": [
        {
          "output_type": "stream",
          "name": "stdout",
          "text": [
            "[ 1  7 11 13 23 29 32 44 50 52 61 63 65 75 79 86 89 99]\n",
            "[ 1  7 11 13 23 29 32 44 50 52 61 63 65 75 79 86 89 99]\n",
            "[ 1  7 11 13 23 29 32 44 50 52 61 63 65 75 79 86 89 99]\n",
            "[ 1  7 11 13 23 29 32 44 50 52 61 63 65 75 79 86 89 99]\n",
            "É claro que a estrutura atual\n",
            "da organização exige a\n",
            "precisão e a definição dos níveis de\n",
            "motivação departamental.\n"
          ]
        }
      ]
    },
    {
      "cell_type": "code",
      "source": [
        "import json\n",
        "import tweepy\n",
        "from random import randrange\n",
        "from datetime import date\n",
        "\n",
        "today = date.today().day\n",
        "\n",
        "with open('/content/drive/MyDrive/biblia/bibleNvi.json','r') as f:\n",
        "  bible = json.load(f)\n",
        "with open('/content/drive/MyDrive/keysOfNsei.json','r') as f:\n",
        "  keys = (json.load(f))[0]\n",
        "\n",
        "for book  in bible :\n",
        "  if (book[\"abbrev\"] == \"pv\"):\n",
        "    proverbios = book\n",
        "    break\n",
        "\n",
        "cap = proverbios['chapters']\n",
        "\n",
        "cd = cap[today-1]\n",
        "limit = len(cd)\n",
        "versicleIndex = randrange(0,limit)\n",
        "\n",
        "dailyVersicle = cd[versicleIndex]\n",
        "finalResult = (f\"\"\"{dailyVersicle}\n",
        "provérbios({today}:{versicleIndex+1})\"\"\")\n",
        "print(finalResult)"
      ],
      "metadata": {
        "id": "SQ6Ce2fBizd4",
        "colab": {
          "base_uri": "https://localhost:8080/"
        },
        "outputId": "5c08d3f0-eee0-46f1-baef-8ae0bc081a85"
      },
      "execution_count": 7,
      "outputs": [
        {
          "output_type": "stream",
          "name": "stdout",
          "text": [
            "Não mude de lugar os antigos marcos que limitam as propriedades e que foram colocados por seus antepassados.\n",
            "pv(22:28)\n"
          ]
        }
      ]
    },
    {
      "cell_type": "code",
      "source": [
        "import numpy as np\n",
        "#import cv2\n",
        "from PIL import Image, ImageDraw, ImageFont\n",
        "import math\n",
        "#from funcs import *\n",
        "\n",
        "text = finalResult\n",
        "imgPath = '/content/drive/MyDrive/62af6d8.jpg'\n",
        "img = Image.open(imgPath)\n",
        "[width, height] = img.size\n",
        "cantofact = 15\n",
        "sizeOfCanto = int(width/cantofact)\n",
        "diminuit = 15\n",
        "fontSize=int(width/diminuit)\n",
        "[initialWidth,initialHeight] = map(lambda x: int(x/cantofact),[width,height])\n",
        "limitLine = int(diminuit)\n",
        "print(limitLine)\n",
        "convertedText = divitedText(text,limitLine)\n",
        "print(img.size)\n",
        "\n",
        "idr = ImageDraw.Draw(img)\n",
        "\n",
        "font = ImageFont.truetype('/content/drive/MyDrive/fontes/arial.ttf' ,int(fontSize))\n",
        "\n",
        "idr.text((initialWidth, initialHeight), convertedText, fill=(255, 255, 0), font=font)\n",
        "\n",
        "\n",
        "newPath = '/teste atual/essa.jpg'\n",
        "\n",
        "img.save(newPath)"
      ],
      "metadata": {
        "colab": {
          "base_uri": "https://localhost:8080/"
        },
        "id": "it6Nb07KP-Eo",
        "outputId": "80177879-dbc2-4506-e6d0-0540b7b97292"
      },
      "execution_count": 8,
      "outputs": [
        {
          "output_type": "stream",
          "name": "stdout",
          "text": [
            "15\n",
            "[ 3  8 11 17 20 28 35 39 47 50 63 65 69 75 85 89 94]\n",
            "[ 3  8 11 17 20 28 35 39 47 50 63 65 69 75 85 89 94]\n",
            "[ 3  8 11 17 20 28 35 39 47 50 63 65 69 75 85 89 94]\n",
            "[ 3  8 11 17 20 28 35 39 47 50 63 65 69 75 85 89 94]\n",
            "[ 3  8 11 17 20 28 35 39 47 50 63 65 69 75 85 89 94]\n",
            "[ 3  8 11 17 20 28 35 39 47 50 63 65 69 75 85 89 94]\n",
            "[ 3  8 11 17 20 28 35 39 47 50 63 65 69 75 85 89 94]\n",
            "(1080, 1350)\n"
          ]
        }
      ]
    },
    {
      "cell_type": "code",
      "source": [
        "auth = tweepy.OAuthHandler(keys['chave1'],keys['chave2'])\n",
        "auth.set_access_token(keys['chave3'],keys['chave4'])\n",
        "api = tweepy.API(auth)\n",
        "\n",
        "api.update_status(finalResult)\n",
        "api.update_with_media(newPath,)"
      ],
      "metadata": {
        "id": "TJ-OrnwFZOvJ"
      },
      "execution_count": null,
      "outputs": []
    }
  ]
}
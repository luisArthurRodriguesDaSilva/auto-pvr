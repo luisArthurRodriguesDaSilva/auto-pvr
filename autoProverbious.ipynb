{
  "nbformat": 4,
  "nbformat_minor": 0,
  "metadata": {
    "colab": {
      "name": "autoProverbious",
      "provenance": [],
      "mount_file_id": "1xQtWvoo5qpTIhwZAFxE6keGir1y2Aovf",
      "authorship_tag": "ABX9TyNT6PYzjuwfB3TMoHsCBWFU",
      "include_colab_link": true
    },
    "kernelspec": {
      "name": "python3",
      "display_name": "Python 3"
    },
    "language_info": {
      "name": "python"
    }
  },
  "cells": [
    {
      "cell_type": "markdown",
      "metadata": {
        "id": "view-in-github",
        "colab_type": "text"
      },
      "source": [
        "<a href=\"https://colab.research.google.com/github/luisArthurRodriguesDaSilva/autoProverbs/blob/main/autoProverbious.ipynb\" target=\"_parent\"><img src=\"https://colab.research.google.com/assets/colab-badge.svg\" alt=\"Open In Colab\"/></a>"
      ]
    },
    {
      "cell_type": "code",
      "source": [
        "import json\n",
        "import tweepy\n",
        "from random import randrange\n",
        "from datetime import date\n",
        "\n",
        "today = date.today().day\n",
        "\n",
        "with open('/content/drive/MyDrive/biblia/bibleNvi.json','r') as f:\n",
        "  bible = json.load(f)\n",
        "with open('/content/drive/MyDrive/keysOfNsei.json','r') as f:\n",
        "  keys = (json.load(f))[0]\n",
        "\n",
        "for book  in bible :\n",
        "  if (book[\"abbrev\"] == \"pv\"):\n",
        "    proverbios = book\n",
        "    break\n",
        "\n",
        "cap = proverbios['chapters']\n",
        "\n",
        "cd = cap[today-1]\n",
        "limit = len(cd)\n",
        "versicleIndex = randrange(0,limit)\n",
        "\n",
        "dailyVersicle = cd[versicleIndex]\n",
        "finalResult = (f\"\"\"{dailyVersicle}\n",
        "pv({today}:{versicleIndex+1})\"\"\")\n",
        "print(finalResult)"
      ],
      "metadata": {
        "id": "SQ6Ce2fBizd4"
      },
      "execution_count": null,
      "outputs": []
    },
    {
      "cell_type": "code",
      "source": [
        "auth = tweepy.OAuthHandler(keys['chave1'],keys['chave2'])\n",
        "auth.set_access_token(keys['chave3'],keys['chave4'])\n",
        "api = tweepy.API(auth)\n",
        "\n",
        "api.update_status(finalResult)"
      ],
      "metadata": {
        "id": "TJ-OrnwFZOvJ"
      },
      "execution_count": null,
      "outputs": []
    }
  ]
}